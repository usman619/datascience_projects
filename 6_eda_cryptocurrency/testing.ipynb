{
 "cells": [
  {
   "cell_type": "markdown",
   "metadata": {},
   "source": [
    "## Testing the Beutiful Soup"
   ]
  },
  {
   "cell_type": "code",
   "execution_count": 18,
   "metadata": {},
   "outputs": [],
   "source": [
    "import pandas as pd\n",
    "import matplotlib.pyplot as plt\n",
    "from bs4 import BeautifulSoup\n",
    "import requests\n",
    "import json\n",
    "import time"
   ]
  },
  {
   "cell_type": "code",
   "execution_count": 25,
   "metadata": {},
   "outputs": [],
   "source": [
    "def load_data(currency_price_unit):\n",
    "    cmc = requests.get('https://coinmarketcap.com')\n",
    "    soup = BeautifulSoup(cmc.content, 'html.parser')\n",
    "\n",
    "    data = soup.find('script', id='__NEXT_DATA__', type='application/json')\n",
    "    coins = {}\n",
    "    coin_data = json.loads(data.contents[0])\n",
    "    listings = coin_data['props']['initialState']['cryptocurrency']['listingLatest']['data']\n",
    "    \n",
    "    for i in listings:\n",
    "      coins[str(i['id'])] = i['slug']\n",
    "\n",
    "    coin_name = []\n",
    "    coin_symbol = []\n",
    "    market_cap = []\n",
    "    percent_change_1h = []\n",
    "    percent_change_24h = []\n",
    "    percent_change_7d = []\n",
    "    price = []\n",
    "    volume_24h = []\n",
    "\n",
    "    for i in listings:\n",
    "      coin_name.append(i['slug'])\n",
    "      coin_symbol.append(i['symbol'])\n",
    "      price.append(i['quote'][currency_price_unit]['price'])\n",
    "      percent_change_1h.append(i['quote'][currency_price_unit]['percent_change_1h'])\n",
    "      percent_change_24h.append(i['quote'][currency_price_unit]['percent_change_24h'])\n",
    "      percent_change_7d.append(i['quote'][currency_price_unit]['percent_change_7d'])\n",
    "      market_cap.append(i['quote'][currency_price_unit]['market_cap'])\n",
    "      volume_24h.append(i['quote'][currency_price_unit]['volume_24h'])\n",
    "\n",
    "    df = pd.DataFrame(columns=['coin_name', 'coin_symbol', 'market_cap', 'percent_change_1h', 'percent_change_24h', 'percent_change_7d', 'price', 'volume_24h'])\n",
    "    df['coin_name'] = coin_name\n",
    "    df['coin_symbol'] = coin_symbol\n",
    "    df['price'] = price\n",
    "    df['percent_change_1h'] = percent_change_1h\n",
    "    df['percent_change_24h'] = percent_change_24h\n",
    "    df['percent_change_7d'] = percent_change_7d\n",
    "    df['market_cap'] = market_cap\n",
    "    df['volume_24h'] = volume_24h\n",
    "    return df\n"
   ]
  },
  {
   "cell_type": "code",
   "execution_count": null,
   "metadata": {},
   "outputs": [],
   "source": [
    "df = load_data('USD')\n",
    "df"
   ]
  }
 ],
 "metadata": {
  "kernelspec": {
   "display_name": "pydev",
   "language": "python",
   "name": "python3"
  },
  "language_info": {
   "codemirror_mode": {
    "name": "ipython",
    "version": 3
   },
   "file_extension": ".py",
   "mimetype": "text/x-python",
   "name": "python",
   "nbconvert_exporter": "python",
   "pygments_lexer": "ipython3",
   "version": "3.12.5"
  }
 },
 "nbformat": 4,
 "nbformat_minor": 2
}
